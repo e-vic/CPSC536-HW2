{
 "cells": [
  {
   "cell_type": "markdown",
   "metadata": {},
   "source": [
    "# CPSC 536M - Homework 2\n",
    "Emma Hansen and Naomi Graham\n",
    "\n",
    "October 2020"
   ]
  },
  {
   "cell_type": "code",
   "execution_count": 2,
   "metadata": {},
   "outputs": [],
   "source": [
    "# Load packages\n",
    "using Images, FileIO, ImageMagick, Zygote, Random, LinearAlgebra, Colors, DSP,ToeplitzMatrices, SparseArrays, Wavelets, LazySets\n",
    "#using PyPlot, FFTW, ForwardDiff"
   ]
  },
  {
   "cell_type": "markdown",
   "metadata": {},
   "source": [
    "## Frank-Wolfe Algorithm"
   ]
  },
  {
   "cell_type": "code",
   "execution_count": 3,
   "metadata": {},
   "outputs": [
    {
     "data": {
      "text/plain": [
       "frank_wolfe (generic function with 1 method)"
      ]
     },
     "execution_count": 3,
     "metadata": {},
     "output_type": "execute_result"
    }
   ],
   "source": [
    "# Frank-Wolfe\n",
    "function frank_wolfe(tau,f,f_grad,K,x0_wav,wav)\n",
    "    # x0 is a vector\n",
    "    n = size(x0_wav)[1]\n",
    "    \n",
    "    for k=1:K\n",
    "        x0 = idwt(x0_wav, wav, 3)\n",
    "        grad_f = f_grad(x0)\n",
    "        ind_max = argmax(grad_f)\n",
    "        #exact minimization (as opposed in inexact variant of Frank-Wolfe)\n",
    "        s = -tau * sign(grad_f[ind_max])* I(n)[:,ind_max] # from http://www.stat.cmu.edu/~ryantibs/convexopt-S15/scribes/23-cond-grad-scribed.pdf\n",
    "        \n",
    "        gamma = 2 / (2+k) # not using line search\n",
    "        x1_wav = ((1-gamma) .* x0_wav) + (gamma .* s)\n",
    "        x0_wav = deepcopy(x1_wav)\n",
    "        #x_history[:,k+1] = x0\n",
    "        \n",
    "        # for checking progress\n",
    "        if mod(k,100)==0\n",
    "            print(\"k is: \")\n",
    "            println(k)\n",
    "            print(\"the function value is: \")\n",
    "            println(f(idwt(x0_wav, wav, 3)))\n",
    "        end\n",
    "    end\n",
    "    return x0_wav\n",
    "end"
   ]
  },
  {
   "cell_type": "markdown",
   "metadata": {},
   "source": [
    "## Define helper functions"
   ]
  },
  {
   "cell_type": "code",
   "execution_count": 4,
   "metadata": {},
   "outputs": [
    {
     "data": {
      "text/plain": [
       "ConvolutionMatrix (generic function with 1 method)"
      ]
     },
     "execution_count": 4,
     "metadata": {},
     "output_type": "execute_result"
    }
   ],
   "source": [
    "# define a function to calculate the objective value\n",
    "\n",
    "function objective(X_vec,R,B_vec)\n",
    "# X = idwt(X_wav, wav, 3) # commented out since derivative doesn't like the transform to occur in the objective...\n",
    "    return (1/2) * sum(( (R * X_vec) - B_vec) .^ 2)\n",
    "end\n",
    "\n",
    "##\n",
    "function obejctive_gradient(X_vec,R,B_vec,wav)\n",
    "    #gradfx = gradient(y -> objective(y,R,B_vec) , X_vec) # too slow\n",
    "    #return dwt(gradfx[1], wav, 3) # too slow \n",
    "    return dwt((R' * R * X_vec) - (R' * B_vec), wav, 3)\n",
    "end\n",
    "\n",
    "# convolution function\n",
    "function ConvolutionMatrix(Kernel,N)\n",
    "    # N is length of image to be convolved with (must be a square image)\n",
    "    toeplitzrow = hcat(Kernel[1,:]',zeros(1,N-size(Kernel)[1]))\n",
    "    for i=2:size(Kernel)[1]\n",
    "        toeplitzrow = hcat(toeplitzrow,Kernel[i,:]',zeros(1,N-size(Kernel)[1]))\n",
    "    end\n",
    "    l = size(toeplitzrow)[2]\n",
    "    toeplitzrow = hcat(toeplitzrow,zeros(1,N^2-l))\n",
    "\n",
    "    toeplitz = Circulant(toeplitzrow')'\n",
    "    \n",
    "    return sparse(toeplitz)\n",
    "end"
   ]
  },
  {
   "cell_type": "markdown",
   "metadata": {},
   "source": []
  },
  {
   "cell_type": "code",
   "execution_count": null,
   "metadata": {},
   "outputs": [],
   "source": []
  },
  {
   "cell_type": "code",
   "execution_count": null,
   "metadata": {},
   "outputs": [],
   "source": []
  },
  {
   "cell_type": "markdown",
   "metadata": {},
   "source": [
    "## Loading images"
   ]
  },
  {
   "cell_type": "code",
   "execution_count": 5,
   "metadata": {},
   "outputs": [
    {
     "data": {
      "text/plain": [
       "(128, 128)"
      ]
     },
     "execution_count": 5,
     "metadata": {},
     "output_type": "execute_result"
    }
   ],
   "source": [
    "# Clear image\n",
    "original_path = \"smaller_climber128.jpg\"\n",
    "original = load(original_path)\n",
    "original_grey = Gray.(original)\n",
    "original_array = convert(Array{Float64}, original_grey)\n",
    "n, = size(original_array)"
   ]
  },
  {
   "cell_type": "code",
   "execution_count": 6,
   "metadata": {},
   "outputs": [
    {
     "data": {
      "text/plain": [
       "128×128 Array{Float64,2}:\n",
       " 1.0  1.0  1.0  1.0  1.0  1.0  1.0  …  0.0         0.0         0.0\n",
       " 1.0  1.0  1.0  1.0  1.0  1.0  1.0     0.0         0.0         0.0\n",
       " 1.0  1.0  1.0  1.0  1.0  1.0  1.0     0.0         0.0         0.0\n",
       " 1.0  1.0  1.0  1.0  1.0  1.0  1.0     0.0         0.0         0.0\n",
       " 1.0  1.0  1.0  1.0  1.0  1.0  1.0     0.0         0.0         0.0\n",
       " 1.0  1.0  1.0  1.0  1.0  1.0  1.0  …  0.0         0.0         0.0\n",
       " 1.0  1.0  1.0  1.0  1.0  1.0  1.0     0.0         0.0         0.0\n",
       " 1.0  1.0  1.0  1.0  1.0  1.0  1.0     0.0         0.0         0.0\n",
       " 1.0  1.0  1.0  1.0  1.0  1.0  1.0     0.0         0.0         0.0\n",
       " 1.0  1.0  1.0  1.0  1.0  1.0  1.0     0.0         0.0         0.0\n",
       " 1.0  1.0  1.0  1.0  1.0  1.0  1.0  …  0.0         0.0         0.0\n",
       " 1.0  1.0  1.0  1.0  1.0  1.0  1.0     0.0         0.0         0.0\n",
       " 1.0  1.0  1.0  1.0  1.0  1.0  1.0     0.0         0.0         0.0\n",
       " ⋮                        ⋮         ⋱  ⋮                       \n",
       " 1.0  1.0  1.0  1.0  1.0  1.0  1.0     0.0         0.0         0.0\n",
       " 1.0  1.0  1.0  1.0  1.0  1.0  1.0     0.00392157  0.0         0.0\n",
       " 1.0  1.0  1.0  1.0  1.0  1.0  1.0     0.0117647   0.00392157  0.0\n",
       " 1.0  1.0  1.0  1.0  1.0  1.0  1.0     0.0235294   0.00784314  0.0\n",
       " 1.0  1.0  1.0  1.0  1.0  1.0  1.0  …  0.0470588   0.0156863   0.00392157\n",
       " 1.0  1.0  1.0  1.0  1.0  1.0  1.0     0.0784314   0.027451    0.0117647\n",
       " 1.0  1.0  1.0  1.0  1.0  1.0  1.0     0.109804    0.0470588   0.0156863\n",
       " 1.0  1.0  1.0  1.0  1.0  1.0  1.0     0.14902     0.0666667   0.0235294\n",
       " 1.0  1.0  1.0  1.0  1.0  1.0  1.0     0.2         0.0980392   0.0352941\n",
       " 1.0  1.0  1.0  1.0  1.0  1.0  1.0  …  0.235294    0.117647    0.0470588\n",
       " 1.0  1.0  1.0  1.0  1.0  1.0  1.0     0.266667    0.133333    0.054902\n",
       " 1.0  1.0  1.0  1.0  1.0  1.0  1.0     0.290196    0.152941    0.0705882"
      ]
     },
     "execution_count": 6,
     "metadata": {},
     "output_type": "execute_result"
    }
   ],
   "source": [
    "# Blurring in photoshop\n",
    "blurry_path = \"smaller_climber_blurry.jpg\"\n",
    "blurry1 = load(blurry_path)\n",
    "blurry_grey = Gray.(blurry1)\n",
    "blurry1_array = convert(Array{Float64}, blurry_grey)"
   ]
  },
  {
   "cell_type": "code",
   "execution_count": 7,
   "metadata": {},
   "outputs": [
    {
     "data": {
      "image/png": "[encoded data removed]",
      "text/plain": [
       "128×384 MosaicView{RGBX{Float64},4,Base.ReshapedArray{RGBX{Float64},4,PaddedView{RGBX{Float64},3,Tuple{Base.OneTo{Int64},Base.OneTo{Int64},Base.OneTo{Int64}},Array{RGBX{Float64},3}},Tuple{Base.MultiplicativeInverses.SignedMultiplicativeInverse{Int64},Base.MultiplicativeInverses.SignedMultiplicativeInverse{Int64}}}}:\n",
       " RGBX{Float64}(1.0,1.0,1.0)  …  RGBX{Float64}(0.9375,0.9375,0.9375)\n",
       " RGBX{Float64}(1.0,1.0,1.0)     RGBX{Float64}(0.9375,0.9375,0.9375)\n",
       " RGBX{Float64}(1.0,1.0,1.0)     RGBX{Float64}(0.9375,0.9375,0.9375)\n",
       " RGBX{Float64}(1.0,1.0,1.0)     RGBX{Float64}(0.9375,0.9375,0.9375)\n",
       " RGBX{Float64}(1.0,1.0,1.0)     RGBX{Float64}(0.9375,0.9375,0.9375)\n",
       " RGBX{Float64}(1.0,1.0,1.0)  …  RGBX{Float64}(0.9375,0.9375,0.9375)\n",
       " RGBX{Float64}(1.0,1.0,1.0)     RGBX{Float64}(0.9375,0.9375,0.9375)\n",
       " RGBX{Float64}(1.0,1.0,1.0)     RGBX{Float64}(0.9375,0.9375,0.9375)\n",
       " RGBX{Float64}(1.0,1.0,1.0)     RGBX{Float64}(0.9375,0.9375,0.9375)\n",
       " RGBX{Float64}(1.0,1.0,1.0)     RGBX{Float64}(0.9375,0.9375,0.9375)\n",
       " RGBX{Float64}(1.0,1.0,1.0)  …  RGBX{Float64}(0.9375,0.9375,0.9375)\n",
       " RGBX{Float64}(1.0,1.0,1.0)     RGBX{Float64}(0.9375,0.9375,0.9375)\n",
       " RGBX{Float64}(1.0,1.0,1.0)     RGBX{Float64}(0.9375,0.9375,0.9375)\n",
       " ⋮                           ⋱  \n",
       " RGBX{Float64}(1.0,1.0,1.0)     RGBX{Float64}(0.937653,0.937653,0.937653)\n",
       " RGBX{Float64}(1.0,1.0,1.0)     RGBX{Float64}(0.937623,0.937623,0.937623)\n",
       " RGBX{Float64}(1.0,1.0,1.0)     RGBX{Float64}(0.937623,0.937623,0.937623)\n",
       " RGBX{Float64}(1.0,1.0,1.0)     RGBX{Float64}(0.937623,0.937623,0.937623)\n",
       " RGBX{Float64}(1.0,1.0,1.0)  …  RGBX{Float64}(0.937607,0.937607,0.937607)\n",
       " RGBX{Float64}(1.0,1.0,1.0)     RGBX{Float64}(0.937561,0.937561,0.937561)\n",
       " RGBX{Float64}(1.0,1.0,1.0)     RGBX{Float64}(0.937515,0.937515,0.937515)\n",
       " RGBX{Float64}(1.0,1.0,1.0)     RGBX{Float64}(0.937515,0.937515,0.937515)\n",
       " RGBX{Float64}(1.0,1.0,1.0)     RGBX{Float64}(0.941468,0.941468,0.941468)\n",
       " RGBX{Float64}(1.0,1.0,1.0)  …  RGBX{Float64}(0.957123,0.957123,0.957123)\n",
       " RGBX{Float64}(1.0,1.0,1.0)     RGBX{Float64}(0.98053,0.98053,0.98053)\n",
       " RGBX{Float64}(1.0,1.0,1.0)     RGBX{Float64}(0.996109,0.996109,0.996109)"
      ]
     },
     "execution_count": 7,
     "metadata": {},
     "output_type": "execute_result"
    }
   ],
   "source": [
    "# Blurring in Julia\n",
    "Kernel = (1/256) .* [1 4 6 4 1; 4 16 24 16 4; 6 24 36 24 6; 4 16 24 16 4; 1 4 6 4 1]\n",
    "m = size(Kernel)[1]\n",
    "conv_matrix = ConvolutionMatrix(Kernel,n)\n",
    "blurry_array = reshape(conv_matrix * original_array[:],size(original_array))\n",
    "\n",
    "\n",
    "mosaicview(original, blurry1, Gray.(blurry_array); nrow=1)"
   ]
  },
  {
   "cell_type": "code",
   "execution_count": null,
   "metadata": {},
   "outputs": [],
   "source": []
  },
  {
   "cell_type": "markdown",
   "metadata": {},
   "source": [
    "## Set parameters and initial values"
   ]
  },
  {
   "cell_type": "code",
   "execution_count": 9,
   "metadata": {},
   "outputs": [
    {
     "data": {
      "text/plain": [
       "2000"
      ]
     },
     "execution_count": 9,
     "metadata": {},
     "output_type": "execute_result"
    }
   ],
   "source": [
    "#max iteration parameter K\n",
    "K = 5001 # frank-wolfe iterations\n",
    "wt = wavelet(WT.haar) # define wavelet to use in transform\n",
    "wt = WT.scale(wt, 1) # 1/sqrt(2) scales output to be between 0 and 1 - useful? idk\n",
    "\n",
    "\n",
    "# define B\n",
    "BLURRY = blurry_array\n",
    "\n",
    "# take wave transform of blurry image for starting point\n",
    "X0_wav = dwt(BLURRY,wt,3)\n"
   ]
  },
  {
   "cell_type": "markdown",
   "metadata": {},
   "source": [
    "## Define functions with fixed parameters from data"
   ]
  },
  {
   "cell_type": "code",
   "execution_count": 10,
   "metadata": {},
   "outputs": [
    {
     "data": {
      "text/plain": [
       "#3 (generic function with 1 method)"
      ]
     },
     "execution_count": 10,
     "metadata": {},
     "output_type": "execute_result"
    }
   ],
   "source": [
    "# defining objective for input data\n",
    "f = (y -> objective(y,conv_matrix,BLURRY[:]))\n",
    "\n",
    "# defining gradient for input data\n",
    "f_grad = (y -> obejctive_gradient(y,conv_matrix,BLURRY[:],wt))"
   ]
  },
  {
   "cell_type": "markdown",
   "metadata": {},
   "source": [
    "## Run the algorithm!\n",
    "### start with $\\tau = 2000$\n",
    "\n",
    "We computed the one-norm of the wavelet transform of the input blurry image to be around 1800. We think it wouldn't make sense to try to restrict ourselves to a smaller tau than the one-norm of the input. For this reason we start with 2000, then try 4000, with marginally better results. Finally we try 1000 and see the results are a little worse."
   ]
  },
  {
   "cell_type": "code",
   "execution_count": 11,
   "metadata": {},
   "outputs": [
    {
     "name": "stdout",
     "output_type": "stream",
     "text": [
      "k is: 100\n",
      "the function value is: 4968.045341035567\n",
      "k is: 200\n",
      "the function value is: 4636.403075066889\n",
      "k is: 300\n",
      "the function value is: 4488.457820706344\n",
      "k is: 400\n",
      "the function value is: 4445.925657718278\n",
      "k is: 500\n",
      "the function value is: 4391.4750231390435\n",
      "k is: 600\n",
      "the function value is: 4332.653703475817\n",
      "k is: 700\n",
      "the function value is: 4285.8877987241085\n",
      "k is: 800\n",
      "the function value is: 4253.076223121322\n",
      "k is: 900\n",
      "the function value is: 4241.625589579849\n",
      "k is: 1000\n",
      "the function value is: 4230.0016235841795\n",
      "k is: 1100\n",
      "the function value is: 4218.60026009545\n",
      "k is: 1200\n",
      "the function value is: 4213.101890960859\n",
      "k is: 1300\n",
      "the function value is: 4208.93863174899\n",
      "k is: 1400\n",
      "the function value is: 4205.154513319861\n",
      "k is: 1500\n",
      "the function value is: 4202.537403392873\n",
      "k is: 1600\n",
      "the function value is: 4200.651716587159\n",
      "k is: 1700\n",
      "the function value is: 4197.618527015264\n",
      "k is: 1800\n",
      "the function value is: 4195.783200607605\n",
      "k is: 1900\n",
      "the function value is: 4195.443823857732\n",
      "k is: 2000\n",
      "the function value is: 4193.7316770261405\n",
      "k is: 2100\n",
      "the function value is: 4192.706272978981\n",
      "k is: 2200\n",
      "the function value is: 4191.081845981988\n",
      "k is: 2300\n",
      "the function value is: 4189.859401651526\n",
      "k is: 2400\n",
      "the function value is: 4189.727112218954\n",
      "k is: 2500\n",
      "the function value is: 4188.824504976576\n",
      "k is: 2600\n",
      "the function value is: 4188.271090524158\n",
      "k is: 2700\n",
      "the function value is: 4187.260285563474\n",
      "k is: 2800\n",
      "the function value is: 4186.16707735399\n",
      "k is: 2900\n",
      "the function value is: 4185.769601960411\n",
      "k is: 3000\n",
      "the function value is: 4185.51820635838\n",
      "k is: 3100\n",
      "the function value is: 4185.36209665187\n",
      "k is: 3200\n",
      "the function value is: 4184.812394753243\n",
      "k is: 3300\n",
      "the function value is: 4184.398133993625\n",
      "k is: 3400\n",
      "the function value is: 4183.976857534603\n",
      "k is: 3500\n",
      "the function value is: 4183.624951321793\n",
      "k is: 3600\n",
      "the function value is: 4183.387611276496\n",
      "k is: 3700\n",
      "the function value is: 4183.081368913488\n",
      "k is: 3800\n",
      "the function value is: 4182.743871998249\n",
      "k is: 3900\n",
      "the function value is: 4182.665254058316\n",
      "k is: 4000\n",
      "the function value is: 4182.504145066774\n",
      "k is: 4100\n",
      "the function value is: 4182.599379704979\n",
      "k is: 4200\n",
      "the function value is: 4182.351998153252\n",
      "k is: 4300\n",
      "the function value is: 4182.055639759541\n",
      "k is: 4400\n",
      "the function value is: 4182.099708047007\n",
      "k is: 4500\n",
      "the function value is: 4181.944059765226\n",
      "k is: 4600\n",
      "the function value is: 4181.737131410305\n",
      "k is: 4700\n",
      "the function value is: 4181.7249300177755\n",
      "k is: 4800\n",
      "the function value is: 4181.550528319504\n",
      "k is: 4900\n",
      "the function value is: 4181.483479118585\n",
      "k is: 5000\n",
      "the function value is: 4181.308958348416\n"
     ]
    }
   ],
   "source": [
    "# parameter \n",
    "#tau = 1800 # make tau > the 1-norm of the wavelet transform of blurry matrix\n",
    "\n",
    "\n",
    "tau = 2000 # make tau > the 1-norm of the wavelet transform of blurry matrix\n",
    "\n",
    "\n",
    "X_wav_sol = frank_wolfe(tau,f,f_grad,K,X0_wav[:],wt); # call frank-wolfe\n",
    "X_sol = idwt(X_wav_sol, wt, 3); # inverse wavelet transform to bring back to the image domain"
   ]
  },
  {
   "cell_type": "markdown",
   "metadata": {},
   "source": [
    "With $\\tau = 2000$, we converge the value $~4181$ in $5000$ iterations"
   ]
  },
  {
   "cell_type": "code",
   "execution_count": 15,
   "metadata": {},
   "outputs": [
    {
     "data": {
      "image/png": "[encoded data removed]",
      "text/plain": [
       "128×128 Array{Gray{Float64},2} with eltype Gray{Float64}:\n",
       " Gray{Float64}(2.26048e-7)  Gray{Float64}(0.0)  …  Gray{Float64}(0.0)\n",
       " Gray{Float64}(2.26048e-7)  Gray{Float64}(0.0)     Gray{Float64}(0.0)\n",
       " Gray{Float64}(2.26048e-7)  Gray{Float64}(0.0)     Gray{Float64}(0.0)\n",
       " Gray{Float64}(2.26048e-7)  Gray{Float64}(0.0)     Gray{Float64}(0.0)\n",
       " Gray{Float64}(2.26048e-7)  Gray{Float64}(0.0)     Gray{Float64}(0.0)\n",
       " Gray{Float64}(2.26048e-7)  Gray{Float64}(0.0)  …  Gray{Float64}(0.0)\n",
       " Gray{Float64}(2.26048e-7)  Gray{Float64}(0.0)     Gray{Float64}(0.0)\n",
       " Gray{Float64}(2.26048e-7)  Gray{Float64}(0.0)     Gray{Float64}(0.0)\n",
       " Gray{Float64}(2.26048e-7)  Gray{Float64}(0.0)     Gray{Float64}(0.0)\n",
       " Gray{Float64}(2.26048e-7)  Gray{Float64}(0.0)     Gray{Float64}(0.0)\n",
       " Gray{Float64}(2.26048e-7)  Gray{Float64}(0.0)  …  Gray{Float64}(0.0)\n",
       " Gray{Float64}(2.26048e-7)  Gray{Float64}(0.0)     Gray{Float64}(0.0)\n",
       " Gray{Float64}(2.26048e-7)  Gray{Float64}(0.0)     Gray{Float64}(0.0)\n",
       " ⋮                                              ⋱  \n",
       " Gray{Float64}(2.26048e-7)  Gray{Float64}(0.0)     Gray{Float64}(-7.65759e-9)\n",
       " Gray{Float64}(2.26048e-7)  Gray{Float64}(0.0)     Gray{Float64}(-7.65327e-9)\n",
       " Gray{Float64}(2.26048e-7)  Gray{Float64}(0.0)     Gray{Float64}(-7.6564e-9)\n",
       " Gray{Float64}(2.26048e-7)  Gray{Float64}(0.0)     Gray{Float64}(-7.65813e-9)\n",
       " Gray{Float64}(2.26048e-7)  Gray{Float64}(0.0)  …  Gray{Float64}(5.81576e-9)\n",
       " Gray{Float64}(2.26048e-7)  Gray{Float64}(0.0)     Gray{Float64}(5.82096e-9)\n",
       " Gray{Float64}(2.26048e-7)  Gray{Float64}(0.0)     Gray{Float64}(8.94506e-9)\n",
       " Gray{Float64}(2.26048e-7)  Gray{Float64}(0.0)     Gray{Float64}(8.94766e-9)\n",
       " Gray{Float64}(2.26048e-7)  Gray{Float64}(0.0)     Gray{Float64}(-6.97398e-9)\n",
       " Gray{Float64}(2.26048e-7)  Gray{Float64}(0.0)  …  Gray{Float64}(-9.62817e-9)\n",
       " Gray{Float64}(2.26048e-7)  Gray{Float64}(0.0)     Gray{Float64}(-3.87091e-9)\n",
       " Gray{Float64}(2.26048e-7)  Gray{Float64}(0.0)     Gray{Float64}(-6.50952e-9)"
      ]
     },
     "execution_count": 15,
     "metadata": {},
     "output_type": "execute_result"
    }
   ],
   "source": [
    "X = reshape(X_sol,size(blurry_array))\n",
    "Gray.(X)"
   ]
  },
  {
   "cell_type": "markdown",
   "metadata": {},
   "source": [
    "The progress slows considerably after a few hundred iterations. We aren't sure we computed the gradient correctly so that could be why we are getting poor results even after many iterations."
   ]
  },
  {
   "cell_type": "markdown",
   "metadata": {},
   "source": [
    "### $\\tau = 4000$"
   ]
  },
  {
   "cell_type": "code",
   "execution_count": 16,
   "metadata": {},
   "outputs": [
    {
     "name": "stdout",
     "output_type": "stream",
     "text": [
      "k is: 100\n",
      "the function value is: 5980.91819089248\n",
      "k is: 200\n",
      "the function value is: 5595.598137037452\n",
      "k is: 300\n",
      "the function value is: 5118.993156621917\n",
      "k is: 400\n",
      "the function value is: 4828.847651715543\n",
      "k is: 500\n",
      "the function value is: 4678.565644657584\n",
      "k is: 600\n",
      "the function value is: 4611.787159978008\n",
      "k is: 700\n",
      "the function value is: 4548.791933273868\n",
      "k is: 800\n",
      "the function value is: 4519.553843125821\n",
      "k is: 900\n",
      "the function value is: 4492.690557129634\n",
      "k is: 1000\n",
      "the function value is: 4454.608476821892\n",
      "k is: 1100\n",
      "the function value is: 4373.459561512974\n",
      "k is: 1200\n",
      "the function value is: 4296.4597249719445\n",
      "k is: 1300\n",
      "the function value is: 4271.209699475559\n",
      "k is: 1400\n",
      "the function value is: 4249.393999062821\n",
      "k is: 1500\n",
      "the function value is: 4233.023101232023\n",
      "k is: 1600\n",
      "the function value is: 4224.356628615193\n",
      "k is: 1700\n",
      "the function value is: 4207.591657402256\n",
      "k is: 1800\n",
      "the function value is: 4195.8279857608295\n",
      "k is: 1900\n",
      "the function value is: 4184.149903056359\n",
      "k is: 2000\n",
      "the function value is: 4171.266641066578\n",
      "k is: 2100\n",
      "the function value is: 4159.967727527834\n",
      "k is: 2200\n",
      "the function value is: 4151.697071056108\n",
      "k is: 2300\n",
      "the function value is: 4146.8021325813315\n",
      "k is: 2400\n",
      "the function value is: 4142.683752487634\n",
      "k is: 2500\n",
      "the function value is: 4139.209853440353\n",
      "k is: 2600\n",
      "the function value is: 4132.824332284947\n",
      "k is: 2700\n",
      "the function value is: 4127.0815810168815\n",
      "k is: 2800\n",
      "the function value is: 4123.640108093355\n",
      "k is: 2900\n",
      "the function value is: 4120.333936949581\n",
      "k is: 3000\n",
      "the function value is: 4117.279059961299\n",
      "k is: 3100\n",
      "the function value is: 4114.916006597266\n",
      "k is: 3200\n",
      "the function value is: 4112.6488074802455\n",
      "k is: 3300\n",
      "the function value is: 4110.899346416696\n",
      "k is: 3400\n",
      "the function value is: 4109.2633952943215\n",
      "k is: 3500\n",
      "the function value is: 4107.984912491784\n",
      "k is: 3600\n",
      "the function value is: 4106.209902371762\n",
      "k is: 3700\n",
      "the function value is: 4104.678676444239\n",
      "k is: 3800\n",
      "the function value is: 4103.534622274501\n",
      "k is: 3900\n",
      "the function value is: 4102.28173396453\n",
      "k is: 4000\n",
      "the function value is: 4101.667925213934\n",
      "k is: 4100\n",
      "the function value is: 4100.565814744242\n",
      "k is: 4200\n",
      "the function value is: 4099.313142970845\n",
      "k is: 4300\n",
      "the function value is: 4098.08321541499\n",
      "k is: 4400\n",
      "the function value is: 4097.922671133378\n",
      "k is: 4500\n",
      "the function value is: 4097.117767224232\n",
      "k is: 4600\n",
      "the function value is: 4096.4180417098505\n",
      "k is: 4700\n",
      "the function value is: 4095.756422032043\n",
      "k is: 4800\n",
      "the function value is: 4095.3865580070337\n",
      "k is: 4900\n",
      "the function value is: 4094.8172455962276\n",
      "k is: 5000\n",
      "the function value is: 4094.0867258665894\n"
     ]
    }
   ],
   "source": [
    "tau = 4000 # make tau >> the 1-norm of the wavelet transform of blurry matrix\n",
    "\n",
    "\n",
    "X_wav_sol2 = frank_wolfe(tau,f,f_grad,K,X0_wav[:],wt); # call frank-wolfe\n",
    "X_sol2 = idwt(X_wav_sol, wt, 3); # inverse wavelet transform to bring back to the image domain"
   ]
  },
  {
   "cell_type": "markdown",
   "metadata": {},
   "source": [
    "With $\\tau = 4000$, we converge the value $4100$ in $5000$ iterations"
   ]
  },
  {
   "cell_type": "code",
   "execution_count": 17,
   "metadata": {},
   "outputs": [
    {
     "data": {
      "image/png": "[encoded data removed]",
      "text/plain": [
       "128×128 Array{Gray{Float64},2} with eltype Gray{Float64}:\n",
       " Gray{Float64}(2.26048e-7)  Gray{Float64}(0.0)  …  Gray{Float64}(0.0)\n",
       " Gray{Float64}(2.26048e-7)  Gray{Float64}(0.0)     Gray{Float64}(0.0)\n",
       " Gray{Float64}(2.26048e-7)  Gray{Float64}(0.0)     Gray{Float64}(0.0)\n",
       " Gray{Float64}(2.26048e-7)  Gray{Float64}(0.0)     Gray{Float64}(0.0)\n",
       " Gray{Float64}(2.26048e-7)  Gray{Float64}(0.0)     Gray{Float64}(0.0)\n",
       " Gray{Float64}(2.26048e-7)  Gray{Float64}(0.0)  …  Gray{Float64}(0.0)\n",
       " Gray{Float64}(2.26048e-7)  Gray{Float64}(0.0)     Gray{Float64}(0.0)\n",
       " Gray{Float64}(2.26048e-7)  Gray{Float64}(0.0)     Gray{Float64}(0.0)\n",
       " Gray{Float64}(2.26048e-7)  Gray{Float64}(0.0)     Gray{Float64}(0.0)\n",
       " Gray{Float64}(2.26048e-7)  Gray{Float64}(0.0)     Gray{Float64}(0.0)\n",
       " Gray{Float64}(2.26048e-7)  Gray{Float64}(0.0)  …  Gray{Float64}(0.0)\n",
       " Gray{Float64}(2.26048e-7)  Gray{Float64}(0.0)     Gray{Float64}(0.0)\n",
       " Gray{Float64}(2.26048e-7)  Gray{Float64}(0.0)     Gray{Float64}(0.0)\n",
       " ⋮                                              ⋱  \n",
       " Gray{Float64}(2.26048e-7)  Gray{Float64}(0.0)     Gray{Float64}(-7.65759e-9)\n",
       " Gray{Float64}(2.26048e-7)  Gray{Float64}(0.0)     Gray{Float64}(-7.65327e-9)\n",
       " Gray{Float64}(2.26048e-7)  Gray{Float64}(0.0)     Gray{Float64}(-7.6564e-9)\n",
       " Gray{Float64}(2.26048e-7)  Gray{Float64}(0.0)     Gray{Float64}(-7.65813e-9)\n",
       " Gray{Float64}(2.26048e-7)  Gray{Float64}(0.0)  …  Gray{Float64}(5.81576e-9)\n",
       " Gray{Float64}(2.26048e-7)  Gray{Float64}(0.0)     Gray{Float64}(5.82096e-9)\n",
       " Gray{Float64}(2.26048e-7)  Gray{Float64}(0.0)     Gray{Float64}(8.94506e-9)\n",
       " Gray{Float64}(2.26048e-7)  Gray{Float64}(0.0)     Gray{Float64}(8.94766e-9)\n",
       " Gray{Float64}(2.26048e-7)  Gray{Float64}(0.0)     Gray{Float64}(-6.97398e-9)\n",
       " Gray{Float64}(2.26048e-7)  Gray{Float64}(0.0)  …  Gray{Float64}(-9.62817e-9)\n",
       " Gray{Float64}(2.26048e-7)  Gray{Float64}(0.0)     Gray{Float64}(-3.87091e-9)\n",
       " Gray{Float64}(2.26048e-7)  Gray{Float64}(0.0)     Gray{Float64}(-6.50952e-9)"
      ]
     },
     "execution_count": 17,
     "metadata": {},
     "output_type": "execute_result"
    }
   ],
   "source": [
    "X2 = reshape(X_sol2,size(blurry_array))\n",
    "Gray.(X2)"
   ]
  },
  {
   "cell_type": "markdown",
   "metadata": {
    "scrolled": true
   },
   "source": [
    "\n",
    "### $\\tau = 1000$\n",
    "\n",
    "\n"
   ]
  },
  {
   "cell_type": "code",
   "execution_count": 18,
   "metadata": {},
   "outputs": [
    {
     "name": "stdout",
     "output_type": "stream",
     "text": [
      "k is: 100\n",
      "the function value is: 4530.5966416371375\n",
      "k is: 200\n",
      "the function value is: 4393.611514916474\n",
      "k is: 300\n",
      "the function value is: 4339.287856024588\n",
      "k is: 400\n",
      "the function value is: 4304.294513463505\n",
      "k is: 500\n",
      "the function value is: 4284.01288879807\n",
      "k is: 600\n",
      "the function value is: 4273.152571429477\n",
      "k is: 700\n",
      "the function value is: 4266.255026423586\n",
      "k is: 800\n",
      "the function value is: 4262.53367483247\n",
      "k is: 900\n",
      "the function value is: 4261.7348558904705\n",
      "k is: 1000\n",
      "the function value is: 4258.896321277756\n",
      "k is: 1100\n",
      "the function value is: 4258.001681377067\n",
      "k is: 1200\n",
      "the function value is: 4256.833513507501\n",
      "k is: 1300\n",
      "the function value is: 4256.020893110119\n",
      "k is: 1400\n",
      "the function value is: 4255.1907514706945\n",
      "k is: 1500\n",
      "the function value is: 4254.610808720317\n",
      "k is: 1600\n",
      "the function value is: 4254.305457792411\n",
      "k is: 1700\n",
      "the function value is: 4253.773588937267\n",
      "k is: 1800\n",
      "the function value is: 4253.43157314816\n",
      "k is: 1900\n",
      "the function value is: 4253.4095132679595\n",
      "k is: 2000\n",
      "the function value is: 4252.98802340595\n",
      "k is: 2100\n",
      "the function value is: 4252.7442621137525\n",
      "k is: 2200\n",
      "the function value is: 4252.473927515856\n",
      "k is: 2300\n",
      "the function value is: 4252.534290117052\n",
      "k is: 2400\n",
      "the function value is: 4252.367900069006\n",
      "k is: 2500\n",
      "the function value is: 4252.108192455224\n",
      "k is: 2600\n",
      "the function value is: 4252.011109730749\n",
      "k is: 2700\n",
      "the function value is: 4251.829798417146\n",
      "k is: 2800\n",
      "the function value is: 4251.917147618849\n",
      "k is: 2900\n",
      "the function value is: 4251.929414049603\n",
      "k is: 3000\n",
      "the function value is: 4251.778970807799\n",
      "k is: 3100\n",
      "the function value is: 4251.7179389924595\n",
      "k is: 3200\n",
      "the function value is: 4251.473532760148\n",
      "k is: 3300\n",
      "the function value is: 4251.488317921828\n",
      "k is: 3400\n",
      "the function value is: 4251.527732292629\n",
      "k is: 3500\n",
      "the function value is: 4251.441801605228\n",
      "k is: 3600\n",
      "the function value is: 4251.39607153766\n",
      "k is: 3700\n",
      "the function value is: 4251.332116987708\n",
      "k is: 3800\n",
      "the function value is: 4251.340412373121\n",
      "k is: 3900\n",
      "the function value is: 4251.258054896804\n",
      "k is: 4000\n",
      "the function value is: 4251.259011076792\n",
      "k is: 4100\n",
      "the function value is: 4251.216351427821\n",
      "k is: 4200\n",
      "the function value is: 4251.251755376858\n",
      "k is: 4300\n",
      "the function value is: 4251.1893284225935\n",
      "k is: 4400\n",
      "the function value is: 4251.189097407459\n",
      "k is: 4500\n",
      "the function value is: 4251.1246894565365\n",
      "k is: 4600\n",
      "the function value is: 4251.140132054979\n",
      "k is: 4700\n",
      "the function value is: 4251.127674399399\n",
      "k is: 4800\n",
      "the function value is: 4251.092805494575\n",
      "k is: 4900\n",
      "the function value is: 4251.0713707271725\n",
      "k is: 5000\n",
      "the function value is: 4251.044492796776\n"
     ]
    }
   ],
   "source": [
    "tau = 1000 # make tau < the 1-norm of the wavelet transform of blurry matrix\n",
    "\n",
    "\n",
    "X_wav_sol3 = frank_wolfe(tau,f,f_grad,K,X0_wav[:],wt); # call frank-wolfe\n",
    "X_sol3 = idwt(X_wav_sol, wt, 3); # inverse wavelet transform to bring back to the image domain"
   ]
  },
  {
   "cell_type": "code",
   "execution_count": 19,
   "metadata": {},
   "outputs": [
    {
     "data": {
      "image/png": "[encoded data removed]",
      "text/plain": [
       "128×128 Array{Gray{Float64},2} with eltype Gray{Float64}:\n",
       " Gray{Float64}(2.26048e-7)  Gray{Float64}(0.0)  …  Gray{Float64}(0.0)\n",
       " Gray{Float64}(2.26048e-7)  Gray{Float64}(0.0)     Gray{Float64}(0.0)\n",
       " Gray{Float64}(2.26048e-7)  Gray{Float64}(0.0)     Gray{Float64}(0.0)\n",
       " Gray{Float64}(2.26048e-7)  Gray{Float64}(0.0)     Gray{Float64}(0.0)\n",
       " Gray{Float64}(2.26048e-7)  Gray{Float64}(0.0)     Gray{Float64}(0.0)\n",
       " Gray{Float64}(2.26048e-7)  Gray{Float64}(0.0)  …  Gray{Float64}(0.0)\n",
       " Gray{Float64}(2.26048e-7)  Gray{Float64}(0.0)     Gray{Float64}(0.0)\n",
       " Gray{Float64}(2.26048e-7)  Gray{Float64}(0.0)     Gray{Float64}(0.0)\n",
       " Gray{Float64}(2.26048e-7)  Gray{Float64}(0.0)     Gray{Float64}(0.0)\n",
       " Gray{Float64}(2.26048e-7)  Gray{Float64}(0.0)     Gray{Float64}(0.0)\n",
       " Gray{Float64}(2.26048e-7)  Gray{Float64}(0.0)  …  Gray{Float64}(0.0)\n",
       " Gray{Float64}(2.26048e-7)  Gray{Float64}(0.0)     Gray{Float64}(0.0)\n",
       " Gray{Float64}(2.26048e-7)  Gray{Float64}(0.0)     Gray{Float64}(0.0)\n",
       " ⋮                                              ⋱  \n",
       " Gray{Float64}(2.26048e-7)  Gray{Float64}(0.0)     Gray{Float64}(-7.65759e-9)\n",
       " Gray{Float64}(2.26048e-7)  Gray{Float64}(0.0)     Gray{Float64}(-7.65327e-9)\n",
       " Gray{Float64}(2.26048e-7)  Gray{Float64}(0.0)     Gray{Float64}(-7.6564e-9)\n",
       " Gray{Float64}(2.26048e-7)  Gray{Float64}(0.0)     Gray{Float64}(-7.65813e-9)\n",
       " Gray{Float64}(2.26048e-7)  Gray{Float64}(0.0)  …  Gray{Float64}(5.81576e-9)\n",
       " Gray{Float64}(2.26048e-7)  Gray{Float64}(0.0)     Gray{Float64}(5.82096e-9)\n",
       " Gray{Float64}(2.26048e-7)  Gray{Float64}(0.0)     Gray{Float64}(8.94506e-9)\n",
       " Gray{Float64}(2.26048e-7)  Gray{Float64}(0.0)     Gray{Float64}(8.94766e-9)\n",
       " Gray{Float64}(2.26048e-7)  Gray{Float64}(0.0)     Gray{Float64}(-6.97398e-9)\n",
       " Gray{Float64}(2.26048e-7)  Gray{Float64}(0.0)  …  Gray{Float64}(-9.62817e-9)\n",
       " Gray{Float64}(2.26048e-7)  Gray{Float64}(0.0)     Gray{Float64}(-3.87091e-9)\n",
       " Gray{Float64}(2.26048e-7)  Gray{Float64}(0.0)     Gray{Float64}(-6.50952e-9)"
      ]
     },
     "execution_count": 19,
     "metadata": {},
     "output_type": "execute_result"
    }
   ],
   "source": [
    "X3 = reshape(X_sol3,size(blurry_array))\n",
    "Gray.(X3)"
   ]
  },
  {
   "cell_type": "code",
   "execution_count": null,
   "metadata": {},
   "outputs": [],
   "source": [
    "\n"
   ]
  },
  {
   "cell_type": "markdown",
   "metadata": {},
   "source": []
  },
  {
   "cell_type": "markdown",
   "metadata": {},
   "source": [
    "# some code we tried but didn't end up using"
   ]
  },
  {
   "cell_type": "markdown",
   "metadata": {},
   "source": [
    "## Line Search function (not using)"
   ]
  },
  {
   "cell_type": "code",
   "execution_count": null,
   "metadata": {},
   "outputs": [],
   "source": [
    "# defining line search function\n",
    "\n",
    "function linesearch(grad_f,s,d)\n",
    "    #alpha_upper0 = 1\n",
    "    #alpha_lower0 = 0\n",
    "    alpha_mid = 0.5\n",
    "    alpha_range = 0.5\n",
    "    stop = 50\n",
    "    alpha_storage = zeros(stop+1)\n",
    "    alpha_storage[1] = alpha_mid\n",
    "    \n",
    "    for i=1:stop\n",
    "        val_mid = dot(-grad_f, alpha_mid * s + (1-alpha_mid) * d) / (norm(grad_f)*norm(alpha_mid * s + (1-alpha_mid) * d))\n",
    "        alpha_upper = alpha_mid + (1/2)*alpha_range\n",
    "        alpha_lower = alpha_mid - (1/2)*alpha_range\n",
    "        \n",
    "        val_upper = dot(-grad_f, alpha_upper * s + (1-alpha_upper) * d) / (norm(grad_f)*norm(alpha_upper * s + (1-alpha_upper) * d))\n",
    "        val_lower = dot(-grad_f, alpha_lower * s + (1-alpha_lower) * d) / (norm(grad_f)*norm(alpha_lower * s + (1-alpha_lower) * d))\n",
    "        \n",
    "        if val_upper > val_mid # note: I think something is wrong with this criteria...\n",
    "            alpha_mid = deepcopy(alpha_upper)\n",
    "        elseif val_lower > val_mid\n",
    "            alpha_mid = deepcopy(alpha_lower)\n",
    "        end\n",
    "        \n",
    "        alpha_range = (1/2) * alpha_range\n",
    "        alpha_storage[i+1] = deepcopy(alpha_mid)\n",
    "    end\n",
    "    return alpha_mid, alpha_storage\n",
    "end\n",
    "\n"
   ]
  },
  {
   "cell_type": "markdown",
   "metadata": {},
   "source": [
    "## atomic iterate search (not using) "
   ]
  },
  {
   "cell_type": "code",
   "execution_count": null,
   "metadata": {},
   "outputs": [],
   "source": [
    "# to solve <s,grad(f)>\n",
    "function get_s(D,grad_f) # works if you know the atoms\n",
    "    n,m = size(D)\n",
    "    stop = 100\n",
    "    \n",
    "    IP = ((-grad_f)' * D) ./ (norm(grad_f) .* 1)\n",
    "    ind_max = argmax(IP)[2]\n",
    "    s0 = D[:,ind_max]\n",
    "    val0 = maximum(IP)\n",
    "\n",
    "    IP_new = deepcopy(IP)\n",
    "    IP_new[ind_max] = -IP[ind_max]\n",
    "    \n",
    "    max_inds = zeros((m,1))\n",
    "    max_inds[1] = ind_max\n",
    "    \n",
    "    for j=2:m\n",
    "        ind_max = argmax(IP_new)[2]\n",
    "        d = D[:,ind_max]\n",
    "        \n",
    "        alpha, = linesearch(grad_f,s0,d)\n",
    "        s1 = alpha * s0 + (1-alpha) * d\n",
    "        \n",
    "        val1 = (s1' * (-grad_f))[1]\n",
    "        \n",
    "        if val1 < val0\n",
    "            return s0,max_inds\n",
    "            break\n",
    "        end\n",
    "        \n",
    "        s0 = s1\n",
    "        IP_new[ind_max] = -IP[ind_max]\n",
    "        val0 = val1\n",
    "        max_inds[j] = ind_max\n",
    "    end\n",
    "end\n",
    "        \n",
    "function get_s(grad_f,tau)\n",
    "    eps = 0.01\n",
    "    n = size(grad_f)[1]\n",
    "    s0 = rand(n)\n",
    "    s0 = tau .* (s0 ./ sum(x0))\n",
    "    \n",
    "    while (s0' * (-grad_f)) > eps\n",
    "        d = rand(n)\n",
    "        d = tau .* (d ./ sum(d))\n",
    "        \n",
    "        alpha, = linesearch(grad_f,s0,d)\n",
    "        s1 = alpha .* s0 + (1-alpha) .* d\n",
    "        \n",
    "    end\n",
    "    \n",
    "end"
   ]
  },
  {
   "cell_type": "code",
   "execution_count": null,
   "metadata": {},
   "outputs": [],
   "source": []
  },
  {
   "cell_type": "code",
   "execution_count": null,
   "metadata": {},
   "outputs": [],
   "source": []
  },
  {
   "cell_type": "code",
   "execution_count": null,
   "metadata": {},
   "outputs": [],
   "source": []
  },
  {
   "cell_type": "code",
   "execution_count": null,
   "metadata": {},
   "outputs": [],
   "source": []
  },
  {
   "cell_type": "code",
   "execution_count": null,
   "metadata": {},
   "outputs": [],
   "source": []
  },
  {
   "cell_type": "code",
   "execution_count": null,
   "metadata": {},
   "outputs": [],
   "source": []
  },
  {
   "cell_type": "code",
   "execution_count": null,
   "metadata": {},
   "outputs": [],
   "source": []
  }
 ],
 "metadata": {
  "kernelspec": {
   "display_name": "Julia 1.5.2",
   "language": "julia",
   "name": "julia-1.5"
  },
  "language_info": {
   "file_extension": ".jl",
   "mimetype": "application/julia",
   "name": "julia",
   "version": "1.5.2"
  }
 },
 "nbformat": 4,
 "nbformat_minor": 2
}
