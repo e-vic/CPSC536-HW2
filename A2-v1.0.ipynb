{
 "cells": [
  {
   "cell_type": "markdown",
   "metadata": {},
   "source": [
    "# CPSC 536M - Homework 2\n",
    "Emma Hansen and Naomi Graham\n",
    "\n",
    "October 2020"
   ]
  },
  {
   "cell_type": "code",
   "execution_count": null,
   "metadata": {},
   "outputs": [],
   "source": []
  },
  {
   "cell_type": "code",
   "execution_count": null,
   "metadata": {},
   "outputs": [],
   "source": []
  },
  {
   "cell_type": "code",
   "execution_count": null,
   "metadata": {},
   "outputs": [],
   "source": [
    "# Load packages\n",
    "using Images, FileIO, ImageMagick, Zygote, Random, LinearAlgebra, Colors, DSP,ToeplitzMatrices, SparseArrays, Wavelets, LazySets\n",
    "using PyPlot, FFTW, ForwardDiff"
   ]
  },
  {
   "cell_type": "code",
   "execution_count": null,
   "metadata": {},
   "outputs": [],
   "source": []
  },
  {
   "cell_type": "code",
   "execution_count": null,
   "metadata": {},
   "outputs": [],
   "source": []
  },
  {
   "cell_type": "code",
   "execution_count": null,
   "metadata": {},
   "outputs": [],
   "source": [
    "# Frank-Wolfe\n",
    "function frank_wolfe(tau,f,f_grad,K,x0_wav,wav)\n",
    "    # x0 is a vector\n",
    "    n = size(x0_wav)[1]\n",
    "    \n",
    "    for k=1:K\n",
    "        x0 = idwt(x0_wav, wav, 3)\n",
    "        grad_f = f_grad(x0)\n",
    "        ind_max = argmax(grad_f)\n",
    "        s = -tau * sign(grad_f[ind_max])* I(n)[:,ind_max] # from http://www.stat.cmu.edu/~ryantibs/convexopt-S15/scribes/23-cond-grad-scribed.pdf\n",
    "        \n",
    "        gamma = 2 / (2+ sqrt(k))\n",
    "        x1_wav = ((1-gamma) .* x0_wav) + (gamma .* s)\n",
    "        x0_wav = deepcopy(x1_wav)\n",
    "        #x_history[:,k+1] = x0\n",
    "        \n",
    "        if mod(k,100)==0\n",
    "            print(\"k is: \")\n",
    "            println(k)\n",
    "            print(\"the function value is: \")\n",
    "            println(f(idwt(x0_wav, wav, 3)))\n",
    "        end\n",
    "    end\n",
    "    return x0_wav\n",
    "end"
   ]
  },
  {
   "cell_type": "code",
   "execution_count": null,
   "metadata": {},
   "outputs": [],
   "source": [
    "function ConvolutionMatrix(Kernel,N)\n",
    "    # N is length of image to be convolved with (must be a square image)\n",
    "    toeplitzrow = hcat(Kernel[1,:]',zeros(1,N-size(Kernel)[1]))\n",
    "    for i=2:size(Kernel)[1]\n",
    "        toeplitzrow = hcat(toeplitzrow,Kernel[i,:]',zeros(1,N-size(Kernel)[1]))\n",
    "    end\n",
    "    l = size(toeplitzrow)[2]\n",
    "    toeplitzrow = hcat(toeplitzrow,zeros(1,N^2-l))\n",
    "\n",
    "    toeplitz = Circulant(toeplitzrow')'\n",
    "    \n",
    "    return sparse(toeplitz)\n",
    "end"
   ]
  },
  {
   "cell_type": "code",
   "execution_count": null,
   "metadata": {},
   "outputs": [],
   "source": [
    "# define a function to calculate the objective value\n",
    "\n",
    "function objective(X_vec,R,B_vec)\n",
    "# function objective(X_vec,R,B_vec)\n",
    "# X = idwt(X_wav, wav, 3) # commented out since derivative doesn't like the transform to occur in the objective...\n",
    "    return (1/2) * sum(( (R * X_vec) - B_vec) .^ 2)\n",
    "end\n",
    "\n",
    "##\n",
    "#function obejctive_gradient(X_vec,R,B_vec,wav)\n",
    "function obejctive_gradient(X_vec,R,B_vec,wav)\n",
    "    #gradfx = gradient(y -> objective(y,R,B_vec) , X_vec)\n",
    "    #return dwt(gradfx[1], wav, 3)\n",
    "    return dwt((R' * R * X_vec) - (R' * B_vec), wav, 3)\n",
    "end"
   ]
  },
  {
   "cell_type": "markdown",
   "metadata": {},
   "source": []
  },
  {
   "cell_type": "code",
   "execution_count": null,
   "metadata": {},
   "outputs": [],
   "source": []
  },
  {
   "cell_type": "code",
   "execution_count": null,
   "metadata": {},
   "outputs": [],
   "source": []
  },
  {
   "cell_type": "markdown",
   "metadata": {},
   "source": [
    "## Loading images"
   ]
  },
  {
   "cell_type": "code",
   "execution_count": null,
   "metadata": {},
   "outputs": [],
   "source": [
    "# Clear image\n",
    "original_path = \"smaller_climber128.jpg\"\n",
    "original = load(original_path)\n",
    "original_grey = Gray.(original)\n",
    "original_array = convert(Array{Float64}, original_grey)\n",
    "n, = size(original_array)"
   ]
  },
  {
   "cell_type": "code",
   "execution_count": null,
   "metadata": {},
   "outputs": [],
   "source": [
    "# Blurring in photoshop\n",
    "blurry_path = \"smaller_climber_blurry.jpg\"\n",
    "blurry1 = load(blurry_path)\n",
    "blurry_grey = Gray.(blurry1)\n",
    "blurry1_array = convert(Array{Float64}, blurry_grey)"
   ]
  },
  {
   "cell_type": "code",
   "execution_count": null,
   "metadata": {},
   "outputs": [],
   "source": [
    "# Blurring in Julia\n",
    "Kernel = (1/256) .* [1 4 6 4 1; 4 16 24 16 4; 6 24 36 24 6; 4 16 24 16 4; 1 4 6 4 1]\n",
    "m = size(Kernel)[1]\n",
    "conv_matrix = ConvolutionMatrix(Kernel,n)\n",
    "blurry_array = reshape(conv_matrix * original_array[:],size(original_array))\n",
    "\n",
    "\n",
    "mosaicview(original, blurry1, Gray.(blurry_array); nrow=1)"
   ]
  },
  {
   "cell_type": "code",
   "execution_count": null,
   "metadata": {},
   "outputs": [],
   "source": []
  },
  {
   "cell_type": "markdown",
   "metadata": {},
   "source": [
    "## Set parameters and initial values"
   ]
  },
  {
   "cell_type": "code",
   "execution_count": null,
   "metadata": {},
   "outputs": [],
   "source": [
    "#K = 5001 # frank-wolfe iterations\n",
    "\n",
    "K = 10001 # frank-wolfe iterations\n",
    "wt = wavelet(WT.haar) # define wavelet to use in transform\n",
    "wt = WT.scale(wt, 1) # 1/sqrt(2) scales output to be between 0 and 1 - useful? idk\n",
    "\n",
    "\n",
    "# define B\n",
    "BLURRY = blurry_array\n",
    "\n",
    "# take wave transform of blurry image for starting point\n",
    "X0_wav = dwt(BLURRY,wt,3)\n",
    "\n",
    "# parameter \n",
    "tau = 1800 # make tau > the 1-norm of the wavelet transform of blurry matrix\n",
    "\n",
    "\n",
    "tau = 2800 # make tau > the 1-norm of the wavelet transform of blurry matrix\n",
    "\n"
   ]
  },
  {
   "cell_type": "markdown",
   "metadata": {},
   "source": [
    "## Define functions with fixed parameters"
   ]
  },
  {
   "cell_type": "code",
   "execution_count": null,
   "metadata": {},
   "outputs": [],
   "source": [
    "# defining objective for input data\n",
    "f = (y -> objective(y,conv_matrix,BLURRY[:]))\n",
    "\n",
    "# defining gradient for input data\n",
    "f_grad = (y -> obejctive_gradient(y,conv_matrix,BLURRY[:],wt))"
   ]
  },
  {
   "cell_type": "markdown",
   "metadata": {},
   "source": [
    "## Run the algorithm!"
   ]
  },
  {
   "cell_type": "code",
   "execution_count": null,
   "metadata": {},
   "outputs": [],
   "source": [
    "X_wav_sol = frank_wolfe(tau,f,f_grad,K,X0_wav[:],wt); # call frank-wolfe\n",
    "X_sol = idwt(X_wav_sol, wt, 3); # inverse wavelet transform to bring back to the image domain"
   ]
  },
  {
   "cell_type": "code",
   "execution_count": null,
   "metadata": {},
   "outputs": [],
   "source": []
  },
  {
   "cell_type": "code",
   "execution_count": null,
   "metadata": {},
   "outputs": [],
   "source": []
  },
  {
   "cell_type": "code",
   "execution_count": null,
   "metadata": {},
   "outputs": [],
   "source": [
    "X = reshape(X_sol,size(blurry_array))\n",
    "Gray.(X)"
   ]
  },
  {
   "cell_type": "code",
   "execution_count": null,
   "metadata": {},
   "outputs": [],
   "source": []
  },
  {
   "cell_type": "markdown",
   "metadata": {},
   "source": []
  },
  {
   "cell_type": "code",
   "execution_count": null,
   "metadata": {},
   "outputs": [],
   "source": [
    "\n",
    "\n",
    "\n"
   ]
  },
  {
   "cell_type": "markdown",
   "metadata": {},
   "source": [
    "### Frank-Wolfe Algorithm"
   ]
  },
  {
   "cell_type": "code",
   "execution_count": null,
   "metadata": {
    "scrolled": true
   },
   "outputs": [],
   "source": [
    "\n",
    "\n",
    "\n",
    "\n"
   ]
  },
  {
   "cell_type": "code",
   "execution_count": null,
   "metadata": {},
   "outputs": [],
   "source": [
    "\n"
   ]
  },
  {
   "cell_type": "markdown",
   "metadata": {},
   "source": [
    "### Print Result"
   ]
  },
  {
   "cell_type": "code",
   "execution_count": null,
   "metadata": {},
   "outputs": [],
   "source": []
  },
  {
   "cell_type": "code",
   "execution_count": null,
   "metadata": {},
   "outputs": [],
   "source": [
    "\n"
   ]
  },
  {
   "cell_type": "code",
   "execution_count": null,
   "metadata": {},
   "outputs": [],
   "source": [
    "# defining line search function\n",
    "\n",
    "function linesearch(grad_f,s,d)\n",
    "    #alpha_upper0 = 1\n",
    "    #alpha_lower0 = 0\n",
    "    alpha_mid = 0.5\n",
    "    alpha_range = 0.5\n",
    "    stop = 50\n",
    "    alpha_storage = zeros(stop+1)\n",
    "    alpha_storage[1] = alpha_mid\n",
    "    \n",
    "    for i=1:stop\n",
    "        val_mid = dot(-grad_f, alpha_mid * s + (1-alpha_mid) * d) / (norm(grad_f)*norm(alpha_mid * s + (1-alpha_mid) * d))\n",
    "        alpha_upper = alpha_mid + (1/2)*alpha_range\n",
    "        alpha_lower = alpha_mid - (1/2)*alpha_range\n",
    "        \n",
    "        val_upper = dot(-grad_f, alpha_upper * s + (1-alpha_upper) * d) / (norm(grad_f)*norm(alpha_upper * s + (1-alpha_upper) * d))\n",
    "        val_lower = dot(-grad_f, alpha_lower * s + (1-alpha_lower) * d) / (norm(grad_f)*norm(alpha_lower * s + (1-alpha_lower) * d))\n",
    "        \n",
    "        if val_upper > val_mid # note: I think something is wrong with this criteria...\n",
    "            alpha_mid = deepcopy(alpha_upper)\n",
    "        elseif val_lower > val_mid\n",
    "            alpha_mid = deepcopy(alpha_lower)\n",
    "        end\n",
    "        \n",
    "        alpha_range = (1/2) * alpha_range\n",
    "        alpha_storage[i+1] = deepcopy(alpha_mid)\n",
    "    end\n",
    "    return alpha_mid, alpha_storage\n",
    "end\n",
    "\n"
   ]
  },
  {
   "cell_type": "code",
   "execution_count": null,
   "metadata": {},
   "outputs": [],
   "source": []
  },
  {
   "cell_type": "code",
   "execution_count": null,
   "metadata": {},
   "outputs": [],
   "source": [
    "# Load packages\n",
    "using Images, FileIO, ImageMagick, Zygote, Random, LinearAlgebra, Colors, DSP,ToeplitzMatrices, SparseArrays, Wavelets, LazySets\n",
    "using PyPlot, FFTW, ForwardDiff"
   ]
  },
  {
   "cell_type": "code",
   "execution_count": null,
   "metadata": {},
   "outputs": [],
   "source": [
    "wt = wavelet(WT.haar) # define wavelet to use in transform\n",
    "wt = WT.scale(wt, 1) # 1/sqrt(2) scales output to be between 0 and 1 - useful? idk\n",
    "\n",
    "function normsquared(x)\n",
    "    return sum(x .^ 2)\n",
    "end"
   ]
  },
  {
   "cell_type": "code",
   "execution_count": null,
   "metadata": {},
   "outputs": [],
   "source": [
    "# Clear image\n",
    "original_path = \"smaller_climber128.jpg\"\n",
    "original = load(original_path)\n",
    "original_grey = Gray.(original)\n",
    "original_array = convert(Array{Float64}, original_grey)\n",
    "\n",
    "n, = size(original_array)"
   ]
  },
  {
   "cell_type": "code",
   "execution_count": null,
   "metadata": {},
   "outputs": [],
   "source": [
    "# Blurring in photoshop\n",
    "blurry_path = \"smaller_climber_blurry.jpg\"\n",
    "blurry1 = load(blurry_path)\n",
    "blurry_grey = Gray.(blurry1)\n",
    "blurry1_array = convert(Array{Float64}, blurry_grey)"
   ]
  },
  {
   "cell_type": "code",
   "execution_count": null,
   "metadata": {},
   "outputs": [],
   "source": [
    "# Blurring in Julia\n",
    "#Kernel = (1/16) .* [1 2 1;2 4 2;1 2 1] # gaussian blur 3x3 from https://en.wikipedia.org/wiki/Kernel_(image_processing)\n",
    "Kernel = (1/256) .* [1 4 6 4 1; 4 16 24 16 4; 6 24 36 24 6; 4 16 24 16 4; 1 4 6 4 1]\n",
    "m = size(Kernel)[1]\n",
    "conv_matrix = ConvolutionMatrix(Kernel,n)\n",
    "blurry_array = reshape(conv_matrix * original_array[:],size(original_array))"
   ]
  },
  {
   "cell_type": "code",
   "execution_count": null,
   "metadata": {},
   "outputs": [],
   "source": [
    "mosaicview(original, blurry1, Gray.(blurry_array); nrow=1)"
   ]
  },
  {
   "cell_type": "code",
   "execution_count": null,
   "metadata": {},
   "outputs": [],
   "source": [
    "Gray.(blurry_array)"
   ]
  },
  {
   "cell_type": "code",
   "execution_count": null,
   "metadata": {},
   "outputs": [],
   "source": [
    "Gray.(original_array)"
   ]
  },
  {
   "cell_type": "code",
   "execution_count": null,
   "metadata": {},
   "outputs": [],
   "source": [
    "println(original_array)\n",
    "println(blurry_array)"
   ]
  },
  {
   "cell_type": "code",
   "execution_count": null,
   "metadata": {},
   "outputs": [],
   "source": [
    "org_wav = dwt(original_array,wt,3)\n",
    "Gray.(org_wav)\n"
   ]
  },
  {
   "cell_type": "code",
   "execution_count": null,
   "metadata": {},
   "outputs": [],
   "source": [
    "inv_orgwav = idwt(org_wav,wt,3)\n",
    "Gray.(inv_orgwav)"
   ]
  },
  {
   "cell_type": "code",
   "execution_count": null,
   "metadata": {},
   "outputs": [],
   "source": [
    "blur_wav = dwt(blurry_array,wt,3)\n",
    "Gray.(blur_wav)"
   ]
  },
  {
   "cell_type": "code",
   "execution_count": null,
   "metadata": {},
   "outputs": [],
   "source": [
    "conv_wav = 0.5.*blur_wav + 0.5.*org_wav\n",
    "Gray.(conv_wav)"
   ]
  },
  {
   "cell_type": "code",
   "execution_count": null,
   "metadata": {},
   "outputs": [],
   "source": [
    "inv_conv_wav = idwt(conv_wav,wt,3)\n",
    "println(inv_conv_wav)"
   ]
  },
  {
   "cell_type": "code",
   "execution_count": null,
   "metadata": {},
   "outputs": [],
   "source": [
    "Gray.(inv_conv_wav)\n"
   ]
  },
  {
   "cell_type": "code",
   "execution_count": null,
   "metadata": {},
   "outputs": [],
   "source": [
    "sum(abs.(org_wav))"
   ]
  },
  {
   "cell_type": "code",
   "execution_count": null,
   "metadata": {},
   "outputs": [],
   "source": [
    "sum(abs.(blur_wav))"
   ]
  }
 ],
 "metadata": {
  "kernelspec": {
   "display_name": "Julia 1.5.2",
   "language": "julia",
   "name": "julia-1.5"
  },
  "language_info": {
   "file_extension": ".jl",
   "mimetype": "application/julia",
   "name": "julia",
   "version": "1.5.2"
  }
 },
 "nbformat": 4,
 "nbformat_minor": 2
}
